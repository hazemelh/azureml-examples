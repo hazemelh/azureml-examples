{
 "cells": [
  {
   "cell_type": "code",
   "execution_count": 2,
   "metadata": {},
   "outputs": [
    {
     "name": "stdout",
     "output_type": "stream",
     "text": [
      "https://eastus.api.azureml.ms/history/v1.0/subscriptions/96aede12-2f73-41cb-b983-6d11a904839b/resourceGroups/promptflow/providers/Microsoft.MachineLearningServices/workspaces/promptflow-eastus\n"
     ]
    }
   ],
   "source": [
    "import mlflow\n",
    "import requests\n",
    "import json\n",
    "import time\n",
    "from azure.ai.ml import MLClient\n",
    "from azure.identity import DefaultAzureCredential, AzureCliCredential\n",
    "from datetime import datetime\n",
    "\n",
    "from mlflow.tracking import MlflowClient\n",
    "from mlflow.utils.rest_utils import http_request\n",
    "import uuid\n",
    "\n",
    "subscription_id = '96aede12-2f73-41cb-b983-6d11a904839b'\n",
    "resource_group = 'promptflow'\n",
    "workspace_name = 'promptflow-eastus'\n",
    "\n",
    "# subscription_id = '96aede12-2f73-41cb-b983-6d11a904839b'\n",
    "# resource_group = 'hod-rg'\n",
    "# workspace_name = 'hod-pflow'\n",
    "\n",
    "ml_client = MLClient(credential=AzureCliCredential(),\n",
    "                        subscription_id=subscription_id,\n",
    "                        resource_group_name=resource_group,\n",
    "                        workspace_name=workspace_name)\n",
    "\n",
    "base_endpoint = ml_client.workspaces.get(ml_client.workspace_name).discovery_url.replace(\"discovery\", \"\")\n",
    "url = (\n",
    "    f\"history/v1.0\"\n",
    "    f\"/subscriptions/{ml_client.subscription_id}\"\n",
    "    f\"/resourceGroups/{ml_client.resource_group_name}\"\n",
    "    f\"/providers/Microsoft.MachineLearningServices\"\n",
    "    f\"/workspaces/{ml_client.workspace_name}\"\n",
    ")\n",
    "endpoint_url = base_endpoint + url\n",
    "print(endpoint_url)"
   ]
  },
  {
   "cell_type": "code",
   "execution_count": 11,
   "metadata": {},
   "outputs": [],
   "source": [
    "credential=AzureCliCredential()\n",
    "token = credential.get_token(\"https://management.azure.com/.default\").token\n",
    "\n",
    "headers = {  \n",
    "    'Authorization': f'Bearer {token}',\n",
    "    'Content-Type': 'application/json',\n",
    "} "
   ]
  },
  {
   "cell_type": "markdown",
   "metadata": {},
   "source": [
    "### Get run from run history"
   ]
  },
  {
   "cell_type": "code",
   "execution_count": null,
   "metadata": {},
   "outputs": [],
   "source": [
    "\n",
    "run_id = \"web_classification_default_20230815_103252_547529\"    # eastus\n",
    "# run_id = \"web_classification_default_20230809_163800_975156\"    # hod-pflow\n",
    "url = f\"{endpoint_url}/runs/{run_id}\"\n",
    "\n",
    "response = requests.get(url, headers=headers)\n",
    "\n",
    "if response.status_code == 200:\n",
    "    print(f\"Successfully get run from run history\")\n",
    "    with open(\"./update/rh_batch_run.json\", \"w\") as f:\n",
    "        json.dump(response.json(), f, indent=4)\n",
    "else:\n",
    "    print(f\"Code: {response.status_code}, Reason: {response.text}\")"
   ]
  },
  {
   "cell_type": "markdown",
   "metadata": {},
   "source": [
    "### Modify run in run history"
   ]
  },
  {
   "cell_type": "code",
   "execution_count": 23,
   "metadata": {},
   "outputs": [
    {
     "name": "stdout",
     "output_type": "stream",
     "text": [
      "Code: 400, Reason: {\n",
      "  \"error\": {\n",
      "    \"code\": \"UserError\",\n",
      "    \"severity\": null,\n",
      "    \"message\": \"Error when parsing request; unable to deserialize request body\",\n",
      "    \"messageFormat\": null,\n",
      "    \"messageParameters\": null,\n",
      "    \"referenceCode\": null,\n",
      "    \"detailsUri\": null,\n",
      "    \"target\": null,\n",
      "    \"details\": [],\n",
      "    \"innerError\": null,\n",
      "    \"debugInfo\": null,\n",
      "    \"additionalInfo\": null\n",
      "  },\n",
      "  \"correlation\": {\n",
      "    \"operation\": \"a88437fcb71e324b151da7326f117435\",\n",
      "    \"request\": \"9c0e3e97793206bd\"\n",
      "  },\n",
      "  \"environment\": \"eastus\",\n",
      "  \"location\": \"eastus\",\n",
      "  \"time\": \"2023-09-26T05:38:15.6232097+00:00\",\n",
      "  \"componentName\": \"run-history\",\n",
      "  \"statusCode\": 400\n",
      "}\n"
     ]
    }
   ],
   "source": [
    "class MyClass:\n",
    "    a = 5\n",
    "\n",
    "# /experimentids/42caf8b8-562b-47f6-b838-0ae2aabb1dc1\n",
    "run_id = \"web_classification_default_20230815_103013_448837\"    # eastus\n",
    "url = f\"{endpoint_url}/runs/{run_id}/modify\"\n",
    "\n",
    "payload = {\n",
    "    # \"runId\": run_id,\n",
    "    \"hidden\": False,\n",
    "    \"tags\": {\n",
    "        \"test_tag\": {\"a\": 123}\n",
    "    },\n",
    "    \"description\": \"\",\n",
    "    \"displayName\": \"hod-run\",\n",
    "}\n",
    "response = requests.patch(url, headers=headers, json=payload)\n",
    "\n",
    "if response.status_code == 200:\n",
    "    print(f\"Successfully updated run.\")\n",
    "    with open(\"./update/rh_batch_run_resp.json\", \"w\") as f:\n",
    "        json.dump(response.json(), f, indent=4)\n",
    "else:\n",
    "    print(f\"Code: {response.status_code}, Reason: {response.text}\")"
   ]
  },
  {
   "cell_type": "markdown",
   "metadata": {},
   "source": [
    "### Get run data from run history"
   ]
  },
  {
   "cell_type": "code",
   "execution_count": 16,
   "metadata": {},
   "outputs": [
    {
     "name": "stdout",
     "output_type": "stream",
     "text": [
      "Successfully get run from run history\n"
     ]
    }
   ],
   "source": [
    "\n",
    "run_id = \"d360affb-c01f-460f-beca-db9a8b88b625\"    # eastus\n",
    "# run_id = \"web_classification_default_20230809_163800_975156\"    # hod-pflow\n",
    "url = f\"{endpoint_url}/rundata\"\n",
    "\n",
    "payload = {\n",
    "    \"runId\": run_id,\n",
    "    \"selectRunMetadata\": True,\n",
    "    \"selectRunDefinition\": True,\n",
    "    \"selectJobSpecification\": True,\n",
    "}\n",
    "\n",
    "response = requests.post(url, headers=headers, json=payload)\n",
    "\n",
    "if response.status_code == 200:\n",
    "    print(f\"Successfully get run from run history\")\n",
    "    with open(\"./rh_simple_llm.json\", \"w\") as f:\n",
    "        json.dump(response.json(), f, indent=4)\n",
    "else:\n",
    "    print(f\"Code: {response.status_code}, Reason: {response.text}\")"
   ]
  },
  {
   "cell_type": "markdown",
   "metadata": {},
   "source": [
    "### Get run from PFS"
   ]
  },
  {
   "cell_type": "code",
   "execution_count": 4,
   "metadata": {},
   "outputs": [
    {
     "name": "stdout",
     "output_type": "stream",
     "text": [
      "Successfully get child runs from PFS\n"
     ]
    }
   ],
   "source": [
    "run_id = \"Web-Classification-Test-Bulk-Run-With-Data-Store-No-Credential_Submitted_638308852434071359\"\n",
    "pfs_endpoint_url = endpoint_url.replace(\"history/v1.0\", \"flow/api\")\n",
    "url = f\"{pfs_endpoint_url}/BulkRuns/{run_id}/childRuns\"\n",
    "\n",
    "response = requests.get(url, headers=headers)\n",
    "\n",
    "if response.status_code == 200:\n",
    "    print(f\"Successfully get child runs from PFS\")\n",
    "    with open(\"./pfs_run_info_child_runs.json\", \"w\") as f:\n",
    "        json.dump(response.json(), f, indent=4)\n",
    "else:\n",
    "    print(f\"Code: {response.status_code}, Reason: {response.text}\")"
   ]
  },
  {
   "cell_type": "markdown",
   "metadata": {},
   "source": [
    "### Get run from index service"
   ]
  },
  {
   "cell_type": "code",
   "execution_count": null,
   "metadata": {},
   "outputs": [],
   "source": [
    "run_id = \"web_classification_default_20230815_103013_448837\"\n",
    "index_endpoint_url = endpoint_url.replace(\"/history\", \"/index\")\n",
    "url = f\"{index_endpoint_url}/entities\"\n",
    "\n",
    "payload = {\n",
    "    \"filters\": [{\n",
    "        \"field\": \"type\",\n",
    "        \"operator\": \"eq\",\n",
    "        \"values\": [\"runs\"]\n",
    "    }, {\n",
    "        \"field\": \"annotations/archived\",\n",
    "        \"operator\": \"eq\",\n",
    "        \"values\": [\"false\"]\n",
    "    },\n",
    "        {\n",
    "            \"field\": \"properties/runId\",\n",
    "            \"operator\": \"eq\",\n",
    "            \"values\": [run_id]\n",
    "        }\n",
    "    ],\n",
    "    \"order\": [{\n",
    "        \"direction\": \"Desc\",\n",
    "        \"field\": \"properties/startTime\"\n",
    "    }\n",
    "    ],\n",
    "    \"pageSize\": 50,\n",
    "}\n",
    "\n",
    "response = requests.post(url, json=payload, headers=headers)\n",
    "\n",
    "if response.status_code == 200:\n",
    "    print(f\"Successfully get run info from index service\")\n",
    "    with open(\"./index_run_archived.json\", \"w\") as f:\n",
    "        json.dump(response.json(), f, indent=4)\n",
    "else:\n",
    "    print(f\"Code: {response.status_code}, Reason: {response.text}\")"
   ]
  },
  {
   "cell_type": "markdown",
   "metadata": {},
   "source": [
    "### List runs from index service"
   ]
  },
  {
   "cell_type": "code",
   "execution_count": 7,
   "metadata": {},
   "outputs": [
    {
     "name": "stdout",
     "output_type": "stream",
     "text": [
      "Successfully listed runs from index service\n"
     ]
    }
   ],
   "source": [
    "index_endpoint_url = endpoint_url.replace(\"/history\", \"/index\")\n",
    "url = f\"{index_endpoint_url}/entities\"\n",
    "\n",
    "payload = {\n",
    "    \"filters\": [\n",
    "        {\n",
    "            \"field\": \"type\",\n",
    "            \"operator\": \"eq\",\n",
    "            \"values\": [\"runs\"]\n",
    "        },\n",
    "        {\n",
    "            \"field\": \"annotations/archived\",\n",
    "            \"operator\": \"eq\",\n",
    "            \"values\": [\"false\"]\n",
    "        },\n",
    "        {\n",
    "            \"field\": \"properties/runType\",\n",
    "            \"operator\": \"contains\",\n",
    "            \"values\": [\n",
    "                \"azureml.promptflow.FlowRun\",\n",
    "                \"azureml.promptflow.EvaluationRun\",\n",
    "            ]\n",
    "        }\n",
    "    ],\n",
    "    \"freeTextSearch\": \"\",\n",
    "    \"order\": [\n",
    "        {\n",
    "            \"direction\": \"Desc\",\n",
    "            \"field\": \"properties/creationContext/createdTime\"\n",
    "        }\n",
    "    ],\n",
    "    # index service can return 100 results at most\n",
    "    \"pageSize\": 50,\n",
    "    \"skip\": 0,\n",
    "    \"includeTotalResultCount\": True,\n",
    "    \"searchBuilder\": \"AppendPrefix\"\n",
    "}\n",
    "\n",
    "response = requests.post(url, json=payload, headers=headers)\n",
    "\n",
    "if response.status_code == 200:\n",
    "    print(f\"Successfully listed runs from index service\")\n",
    "    with open(\"./list_entities_50.json\", \"w\") as f:\n",
    "        json.dump(response.json(), f, indent=4)\n",
    "else:\n",
    "    print(f\"Code: {response.status_code}, Reason: {response.text}\")"
   ]
  },
  {
   "cell_type": "markdown",
   "metadata": {},
   "source": [
    "### Get metrics from metric service"
   ]
  },
  {
   "cell_type": "code",
   "execution_count": null,
   "metadata": {},
   "outputs": [],
   "source": [
    "run_id = \"groundedness_eval_default_20230821_191944_818788\"\n",
    "index_endpoint_url = endpoint_url.replace(\"/history/v1.0\", \"/metric/v2.0\")\n",
    "url = f\"{index_endpoint_url}/runs/{run_id}/lastvalues\"\n",
    "\n",
    "response = requests.post(url, json={}, headers=headers)\n",
    "\n",
    "if response.status_code == 200:\n",
    "    print(f\"Successfully got metrics from metric service\")\n",
    "    with open(\"./metrics_cle.json\", \"w\") as f:\n",
    "        json.dump(response.json(), f, indent=4)\n",
    "else:\n",
    "    print(f\"Code: {response.status_code}, Reason: {response.text}\")"
   ]
  },
  {
   "cell_type": "markdown",
   "metadata": {},
   "source": [
    "### List flows from index service"
   ]
  },
  {
   "cell_type": "code",
   "execution_count": 13,
   "metadata": {},
   "outputs": [
    {
     "name": "stdout",
     "output_type": "stream",
     "text": [
      "Successfully listed runs from index service\n"
     ]
    }
   ],
   "source": [
    "index_endpoint_url = endpoint_url.replace(\"/history\", \"/index\")\n",
    "url = f\"{index_endpoint_url}/entities\"\n",
    "\n",
    "payload = {\n",
    "    \"filters\": [\n",
    "        {\n",
    "            \"field\": \"type\",\n",
    "            \"operator\": \"eq\",\n",
    "            \"values\": [\"flows\"]\n",
    "        },\n",
    "        # {\n",
    "        #     \"field\": \"annotations/archived\",\n",
    "        #     \"operator\": \"eq\",\n",
    "        #     \"values\": [\"true\"]\n",
    "        # },\n",
    "        {\n",
    "            \"field\": \"properties/creationContext/createdBy/userTenantId\",\n",
    "            \"operator\": \"eq\",\n",
    "            \"values\": [\"72f988bf-86f1-41af-91ab-2d7cd011db47\"]\n",
    "        },\n",
    "        {\n",
    "            \"field\": \"properties/creationContext/createdBy/userObjectId\",\n",
    "            \"operator\": \"eq\",\n",
    "            \"values\": [\"c05e0746-e125-4cb3-9213-a8b535eacd79\"]\n",
    "        }\n",
    "    ],\n",
    "    \"freeTextSearch\": \"\",\n",
    "    \"order\": [\n",
    "        {\n",
    "            \"direction\": \"Desc\",\n",
    "            \"field\": \"properties/creationContext/createdTime\"\n",
    "        }\n",
    "    ],\n",
    "    # index service can return 100 results at most\n",
    "    \"pageSize\": 10,\n",
    "    \"skip\": 0,\n",
    "    \"includeTotalResultCount\": True,\n",
    "    \"searchBuilder\": \"AppendPrefix\"\n",
    "}\n",
    "\n",
    "response = requests.post(url, json=payload, headers=headers)\n",
    "\n",
    "if response.status_code == 200:\n",
    "    print(f\"Successfully listed runs from index service\")\n",
    "    with open(\"./flow_list_archived.json\", \"w\") as f:\n",
    "        json.dump(response.json(), f, indent=4)\n",
    "else:\n",
    "    print(f\"Code: {response.status_code}, Reason: {response.text}\")"
   ]
  },
  {
   "cell_type": "code",
   "execution_count": null,
   "metadata": {},
   "outputs": [],
   "source": [
    "import re\n",
    "\n",
    "pattern = re.compile(r\"azureml://(?P<part1>[\\w/]+)/paths/(?P<part2>.*)$\")\n",
    "target = \"azureml://datastores/workspaceblobstore/paths/LocalUpload/312cca2af474e5f895013392b6b38f45/data.jsonl\"\n",
    "# target = \"fake\"\n",
    "match = pattern.match(target)\n",
    "if match:\n",
    "    print(match.group('part1'))\n",
    "    print(match.group('part2'))\n",
    "print(match.groups())"
   ]
  },
  {
   "cell_type": "code",
   "execution_count": null,
   "metadata": {},
   "outputs": [],
   "source": [
    "import re\n",
    "\n",
    "OUTPUT_PORTAL_PATTERN = re.compile(r\"azureml://.*?/data/(?P<name>.*?)/versions/(?P<version>.*?)$\")\n",
    "target = 'azureml://locations/eastus/workspaces/3e123da1-f9a5-4c91-9234-8d9ffbb39ff5/data/azureml_web_classification_default_20230809_120434_491077_output_data_flow_outputs/versions/1'\n",
    "\n",
    "match = OUTPUT_PORTAL_PATTERN.match(target)\n",
    "if match:\n",
    "    print(match.group('name'))\n",
    "    print(match.group('version'))\n",
    "print(match.groups())"
   ]
  },
  {
   "cell_type": "code",
   "execution_count": 2,
   "metadata": {},
   "outputs": [
    {
     "name": "stdout",
     "output_type": "stream",
     "text": [
      "D:\\programs\\azureml-examples\\sdk\\python\\jobs\\pipelines\\hod_test_promptflow\n",
      "D:/programs/azureml-examples/sdk/python/jobs/pipelines/hod_test_promptflow\n"
     ]
    },
    {
     "ename": "",
     "evalue": "",
     "output_type": "error",
     "traceback": [
      "\u001b[1;31mThe Kernel crashed while executing code in the the current cell or a previous cell. Please review the code in the cell(s) to identify a possible cause of the failure. Click <a href='https://aka.ms/vscodeJupyterKernelCrash'>here</a> for more info. View Jupyter <a href='command:jupyter.viewOutput'>log</a> for further details."
     ]
    }
   ],
   "source": [
    "from pathlib import Path\n",
    "a = Path(\".\").resolve().absolute()\n",
    "print(str(a))\n",
    "print(a.as_posix())"
   ]
  },
  {
   "cell_type": "markdown",
   "metadata": {},
   "source": [
    "## Test promptflow schema"
   ]
  },
  {
   "cell_type": "code",
   "execution_count": null,
   "metadata": {},
   "outputs": [],
   "source": [
    "import json\n",
    "from marshmallow_jsonschema import JSONSchema  \n",
    "from promptflow._sdk.schemas._flow_dag import FlowDagSchema\n",
    "\n",
    "json_schema = JSONSchema().dump(FlowDagSchema(context={\"base_path\": \".\"}))\n",
    "with open(\"./flow_dag_schema.json\", \"w\") as f:\n",
    "    json.dump(json_schema, f, indent=4)"
   ]
  },
  {
   "cell_type": "code",
   "execution_count": 18,
   "metadata": {},
   "outputs": [
    {
     "name": "stdout",
     "output_type": "stream",
     "text": [
      "{'a': 123, 'b': 456}\n"
     ]
    }
   ],
   "source": [
    "a = {\"a\": 123, \"b\": 456}\n",
    "print(f\"{a}\")\n"
   ]
  },
  {
   "cell_type": "code",
   "execution_count": 9,
   "metadata": {},
   "outputs": [
    {
     "name": "stdout",
     "output_type": "stream",
     "text": [
      "none\n"
     ]
    }
   ],
   "source": [
    "print(str(None).lower())"
   ]
  },
  {
   "cell_type": "code",
   "execution_count": null,
   "metadata": {},
   "outputs": [],
   "source": []
  }
 ],
 "metadata": {
  "kernelspec": {
   "display_name": "git_sdk",
   "language": "python",
   "name": "python3"
  },
  "language_info": {
   "codemirror_mode": {
    "name": "ipython",
    "version": 3
   },
   "file_extension": ".py",
   "mimetype": "text/x-python",
   "name": "python",
   "nbconvert_exporter": "python",
   "pygments_lexer": "ipython3",
   "version": "3.8.18"
  },
  "orig_nbformat": 4,
  "vscode": {
   "interpreter": {
    "hash": "901590fd2121b297931cb9e45033033448ad2d0581b02ead13ed661d40dac950"
   }
  }
 },
 "nbformat": 4,
 "nbformat_minor": 2
}
